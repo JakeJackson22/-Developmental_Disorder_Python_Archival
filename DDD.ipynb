{
 "cells": [
  {
   "cell_type": "code",
   "execution_count": null,
   "id": "af83af33-531f-4a0f-b575-d56678e14d8d",
   "metadata": {
    "tags": []
   },
   "outputs": [],
   "source": [
    "import numpy as np\n",
    "import pandas as pd\n",
    "import csv"
   ]
  },
  {
   "cell_type": "code",
   "execution_count": null,
   "id": "262c57e8-e041-446f-b2c0-19fe9e08393b",
   "metadata": {
    "tags": []
   },
   "outputs": [],
   "source": [
    "#loading dataset\n",
    "DDP = pd.read_csv(\"DDG2P_6_10_2023.csv\")\n",
    "DDP"
   ]
  },
  {
   "cell_type": "code",
   "execution_count": null,
   "id": "30b6b91b-a693-43ac-871a-5358fcc40357",
   "metadata": {
    "tags": []
   },
   "outputs": [],
   "source": [
    "#Replacing na values with \"Unkown\"\n",
    "DDP[\"organ specificity list\"] = DDP[\"organ specificity list\"].fillna(\"Unknown\")"
   ]
  },
  {
   "cell_type": "code",
   "execution_count": null,
   "id": "7be7bfd2-46c0-4fb6-9efd-cc56256f38af",
   "metadata": {
    "tags": []
   },
   "outputs": [],
   "source": [
    "#Checking to see if previous code worked\n",
    "DDP[DDP[\"organ specificity list\"].str.contains(\"Unknown\", na=False)]"
   ]
  },
  {
   "cell_type": "code",
   "execution_count": null,
   "id": "0202b080-b51f-44ef-a315-c865cb2e536e",
   "metadata": {
    "tags": []
   },
   "outputs": [],
   "source": [
    "#Seperating out rows into individual organs\n",
    "\n",
    "DDP['organ specificity list'] = DDP['organ specificity list'].str.split(';')\n",
    "\n",
    "# Explode the column to create multiple rows\n",
    "DDPsep = DDP.explode('organ specificity list')\n",
    "\n",
    "# Reset the index if needed\n",
    "DDPsep = DDPsep.reset_index(drop=True)\n",
    "\n",
    "DDPsep"
   ]
  },
  {
   "cell_type": "code",
   "execution_count": null,
   "id": "74c077e6-e151-40c4-b406-18166d09756f",
   "metadata": {
    "tags": []
   },
   "outputs": [],
   "source": [
    "#Collapsing sub organs into main organ\n",
    "\n",
    "replacement_mapping = {\n",
    "    'Eye: Retina': 'Eye',\n",
    "    'Eye: Lens': 'Eye',\n",
    "    'Eye: Structure': 'Eye',\n",
    "    'Eye: Physiology': 'Eye',\n",
    "    'Eye: Cornea': 'Eye',\n",
    "    'Eye: Connective tissue': 'Eye',\n",
    "    'Eye: Optic nerve': 'Eye',\n",
    "    'Eye: Vasculature': 'Eye',\n",
    "    'Eye: Vitreous': 'Eye',\n",
    "    'Endocrine': 'Endocrine/Metabolic',\n",
    "    'Peripheral nerves': 'Spinal cord/Peripheral nerves'\n",
    "}\n",
    "\n",
    "DDPsep['organ specificity list'] = DDPsep['organ specificity list'].replace(replacement_mapping)\n",
    "\n",
    "# The 'organ.specificity.list' column now contains the updated values"
   ]
  },
  {
   "cell_type": "code",
   "execution_count": null,
   "id": "7bddcb1c-6c1b-4821-ba4c-18a25b7a6135",
   "metadata": {
    "tags": []
   },
   "outputs": [],
   "source": [
    "DDPLoc = DDPsep[['gene symbol', 'organ specificity list']]\n",
    "DDPLoc"
   ]
  },
  {
   "cell_type": "code",
   "execution_count": null,
   "id": "7ebeadef-0ead-4cc6-af39-f86dfe0438f1",
   "metadata": {
    "tags": []
   },
   "outputs": [],
   "source": [
    "#Merging suplicate listings\n",
    "\n",
    "DDPsep = DDPsep.groupby('gene symbol')['organ specificity list'].apply(lambda x: ','.join(x)).reset_index()\n",
    "DDPsep = DDPsep.rename(columns={'organ specificity list': 'organ specificity list'})\n",
    "DDPsep"
   ]
  },
  {
   "cell_type": "code",
   "execution_count": null,
   "id": "9a9623ba-7d53-43e7-8303-12080375ef78",
   "metadata": {
    "tags": []
   },
   "outputs": [],
   "source": [
    "# Define the genes and substrings to search for\n",
    "genes = DDPsep['gene symbol']\n",
    "substrings = [\"Eye\", \"Brain\", \"Skeleton\", \"Endocrine\", \"Heart\", \"Face\", \"Skin\", \"Kidney\", \"GI\", \"Ear\",\n",
    "              \"Bone Marrow\", \"Musculature\", \"Genitalia\", \"Peripheral\", \"Teeth\", \"Respiratory\", \"Hair\",\n",
    "              \"Multisystem\", \"Cancer\", \"Liver\", \"Lungs\", \"Unknown\"]\n",
    "\n",
    "# Create a new DataFrame with genes vs. boolean organ columns\n",
    "organ_columns = {substring: DDPsep['organ specificity list'].str.contains(substring) for substring in substrings}\n",
    "organ_columns['gene symbol'] = genes\n",
    "\n",
    "genes_vs_organs = pd.DataFrame(organ_columns)\n",
    "# Remove row names\n",
    "genes_vs_organs = genes_vs_organs.reset_index(drop=True)\n",
    "\n",
    "# Set the \"gene.symbol\" column as the new row names\n",
    "genes_vs_organs.set_index('gene symbol', inplace=True)"
   ]
  },
  {
   "cell_type": "code",
   "execution_count": null,
   "id": "87968eec-f052-44c2-af1d-2c505f69874c",
   "metadata": {
    "tags": []
   },
   "outputs": [],
   "source": [
    "genes_vs_organs"
   ]
  },
  {
   "cell_type": "code",
   "execution_count": null,
   "id": "01cdffca-d32d-4394-902d-c5a619ad1bcd",
   "metadata": {
    "tags": []
   },
   "outputs": [],
   "source": [
    "genes_vs_organs.to_csv(\"geneVSorgans.csv\")"
   ]
  },
  {
   "cell_type": "code",
   "execution_count": null,
   "id": "1daf2da9-58aa-4cb5-8a82-bf0b27e940bf",
   "metadata": {
    "tags": []
   },
   "outputs": [],
   "source": [
    "pwd"
   ]
  },
  {
   "cell_type": "code",
   "execution_count": null,
   "id": "f72367de-25ef-4462-8d6f-52c33e438ebc",
   "metadata": {},
   "outputs": [],
   "source": []
  },
  {
   "cell_type": "code",
   "execution_count": null,
   "id": "968389ce-8328-41c3-904d-e7fef69bc435",
   "metadata": {},
   "outputs": [],
   "source": []
  }
 ],
 "metadata": {
  "kernelspec": {
   "display_name": "Python (scanpy_louise)",
   "language": "python",
   "name": "scanpy_louise"
  },
  "language_info": {
   "codemirror_mode": {
    "name": "ipython",
    "version": 3
   },
   "file_extension": ".py",
   "mimetype": "text/x-python",
   "name": "python",
   "nbconvert_exporter": "python",
   "pygments_lexer": "ipython3",
   "version": "3.8.18"
  }
 },
 "nbformat": 4,
 "nbformat_minor": 5
}
